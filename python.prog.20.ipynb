{
 "cells": [
  {
   "cell_type": "markdown",
   "id": "04468a69",
   "metadata": {},
   "source": [
    "# Q1 Create a function that takes a list of strings and integers, and filters out the list so that it returns a list of integers only.\n",
    "# Examples\n",
    "# filter_list([1, 2, 3, &quot;a&quot;, &quot;b&quot;, 4]) ➞ [1, 2, 3, 4]\n",
    "# filter_list([&quot;A&quot;, 0, &quot;Edabit&quot;, 1729, &quot;Python&quot;, &quot;1729&quot;]) ➞ [0, 1729]\n",
    "# filter_list([&quot;Nothing&quot;, &quot;here&quot;]) ➞ []"
   ]
  },
  {
   "cell_type": "code",
   "execution_count": null,
   "id": "b36fbf6b",
   "metadata": {},
   "outputs": [],
   "source": [
    "You can create a function called filter_list that iterates over the input list and checks if each element is an instance of the int type. If it is, the element is added to a new list called filtered_list. Finally, the filtered_list is returned. Here's the implementation:\n",
    "def filter_list(lst):\n",
    "    filtered_list = []\n",
    "    for element in lst:\n",
    "        if isinstance(element, int):\n",
    "            filtered_list.append(element)\n",
    "    return filtered_list\n",
    "\n",
    "Let's test the function with the provided examples:\n",
    "print(filter_list([1, 2, 3, \"a\", \"b\", 4]))\n",
    "# Output: [1, 2, 3, 4]\n",
    "\n",
    "print(filter_list([\"A\", 0, \"Edabit\", 1729, \"Python\", \"1729\"]))\n",
    "# Output: [0, 1729]\n",
    "\n",
    "print(filter_list([\"Nothing\", \"here\"]))\n",
    "# Output: []\n"
   ]
  },
  {
   "cell_type": "markdown",
   "id": "9ba44b6a",
   "metadata": {},
   "source": [
    "# Q2 Given a list of numbers, create a function which returns the list but with each element&#39;s\n",
    "# index in the list added to itself. This means you add 0 to the number at index 0, add 1 to the\n",
    "# number at index 1, etc...\n",
    "# Examples\n",
    "# add_indexes([0, 0, 0, 0, 0]) ➞ [0, 1, 2, 3, 4]\n",
    "# add_indexes([1, 2, 3, 4, 5]) ➞ [1, 3, 5, 7, 9]\n",
    "# add_indexes([5, 4, 3, 2, 1]) ➞ [5, 5, 5, 5, 5]"
   ]
  },
  {
   "cell_type": "code",
   "execution_count": null,
   "id": "b5e05e3f",
   "metadata": {},
   "outputs": [],
   "source": [
    "You can create a function called add_indexes that takes a list as input and returns a new list where each element is the sum of the original element and its index. You can use the enumerate() function to iterate over the elements of the input list along with their indices. Here's the implementation:\n",
    "def add_indexes(lst):\n",
    "    return [num + index for index, num in enumerate(lst)]\n",
    "\n",
    "Let's test the function with the provided examples:\n",
    "print(add_indexes([0, 0, 0, 0, 0]))\n",
    "# Output: [0, 1, 2, 3, 4]\n",
    "\n",
    "print(add_indexes([1, 2, 3, 4, 5]))\n",
    "# Output: [1, 3, 5, 7, 9]\n",
    "\n",
    "print(add_indexes([5, 4, 3, 2, 1]))\n",
    "# Output: [5, 5, 5, 5, 5]\n"
   ]
  },
  {
   "cell_type": "markdown",
   "id": "c5284ec3",
   "metadata": {},
   "source": [
    "# Q3 Create a function that takes the height and radius of a cone as arguments and returns the\n",
    "# volume of the cone rounded to the nearest hundredth. See the resources tab for the formula.\n",
    "\n",
    "# Examples\n",
    "# cone_volume(3, 2) ➞ 12.57\n",
    "\n",
    "# cone_volume(15, 6) ➞ 565.49\n",
    "# cone_volume(18, 0) ➞ 0"
   ]
  },
  {
   "cell_type": "code",
   "execution_count": null,
   "id": "e86ae5d6",
   "metadata": {},
   "outputs": [],
   "source": [
    "To calculate the volume of a cone, you can use the formula V = (1/3) * π * r^2 * h, where V is the volume, π is a mathematical constant approximately equal to 3.14159, r is the radius of the cone's base, and h is the height of the cone.\n",
    "\n",
    "You can create a function called cone_volume that takes the height and radius as arguments, performs the volume calculation using the formula, and rounds the result to the nearest hundredth using the round() function. Here's the implementation:\n",
    "import math\n",
    "\n",
    "def cone_volume(h, r):\n",
    "    volume = (1/3) * math.pi * r**2 * h\n",
    "    return round(volume, 2)\n",
    "Let's test the function with the provided examples:\n",
    "print(cone_volume(3, 2))\n",
    "# Output: 12.57\n",
    "\n",
    "print(cone_volume(15, 6))\n",
    "# Output: 565.49\n",
    "\n",
    "print(cone_volume(18, 0))\n",
    "# Output: 0.0\n"
   ]
  },
  {
   "cell_type": "markdown",
   "id": "308926cd",
   "metadata": {},
   "source": [
    "# Q4 This Triangular Number Sequence is generated from a pattern of dots that form a triangle.\n",
    "# The first 5 numbers of the sequence, or dots, are:\n",
    "# 1, 3, 6, 10, 15\n",
    "# This means that the first triangle has just one dot, the second one has three dots, the third one\n",
    "# has 6 dots and so on.\n",
    "# Write a function that gives the number of dots with its corresponding triangle number of the sequence.\n",
    "# Examples\n",
    "# triangle(1) ➞ 1\n",
    "# triangle(6) ➞ 21\n",
    "# triangle(215) ➞ 23220"
   ]
  },
  {
   "cell_type": "code",
   "execution_count": null,
   "id": "84ac9aa1",
   "metadata": {},
   "outputs": [],
   "source": [
    "To solve this problem, we can use the formula for the nth triangular number, which is given by n * (n + 1) / 2. The value n represents the position of the triangular number in the sequence.\n",
    "\n",
    "We can create a function called triangle that takes an input n and calculates the nth triangular number using the formula. Here's the implementation:\n",
    "def triangle(n):\n",
    "    return n * (n + 1) // 2\n",
    "\n",
    "Let's test the function with the provided examples:\n",
    "print(triangle(1))\n",
    "# Output: 1\n",
    "\n",
    "print(triangle(6))\n",
    "# Output: 21\n",
    "\n",
    "print(triangle(215))\n",
    "# Output: 23220\n"
   ]
  },
  {
   "cell_type": "markdown",
   "id": "e6e94a66",
   "metadata": {},
   "source": [
    "# Q5 Create a function that takes a list of numbers between 1 and 10 (excluding one number) and returns the missing number.\n",
    "# Examples\n",
    "# missing_num([1, 2, 3, 4, 6, 7, 8, 9, 10]) ➞ 5\n",
    "# missing_num([7, 2, 3, 6, 5, 9, 1, 4, 8]) ➞ 10\n",
    "# missing_num([10, 5, 1, 2, 4, 6, 8, 3, 9]) ➞ 7"
   ]
  },
  {
   "cell_type": "code",
   "execution_count": null,
   "id": "27b77a5b",
   "metadata": {},
   "outputs": [],
   "source": [
    "To find the missing number in a list of numbers between 1 and 10 (excluding one number), you can calculate the sum of all numbers from 1 to 10 and subtract the sum of the given list. The difference will be the missing number.\n",
    "\n",
    "You can create a function called missing_num that takes the list of numbers as input. The function calculates the sum of numbers from 1 to 10 using the formula n * (n + 1) / 2 and subtracts the sum of the given list from it. The resulting difference will be the missing number. Here's the implementation:\n",
    "def missing_num(lst):\n",
    "    total_sum = 10 * (10 + 1) // 2\n",
    "    list_sum = sum(lst)\n",
    "    return total_sum - list_sum\n",
    "\n",
    "Let's test the function with the provided examples:\n",
    "print(missing_num([1, 2, 3, 4, 6, 7, 8, 9, 10]))\n",
    "# Output: 5\n",
    "\n",
    "print(missing_num([7, 2, 3, 6, 5, 9, 1, 4, 8]))\n",
    "# Output: 10\n",
    "\n",
    "print(missing_num([10, 5, 1, 2, 4, 6, 8, 3, 9]))\n",
    "# Output: 7\n"
   ]
  }
 ],
 "metadata": {
  "kernelspec": {
   "display_name": "Python 3 (ipykernel)",
   "language": "python",
   "name": "python3"
  },
  "language_info": {
   "codemirror_mode": {
    "name": "ipython",
    "version": 3
   },
   "file_extension": ".py",
   "mimetype": "text/x-python",
   "name": "python",
   "nbconvert_exporter": "python",
   "pygments_lexer": "ipython3",
   "version": "3.9.12"
  }
 },
 "nbformat": 4,
 "nbformat_minor": 5
}
